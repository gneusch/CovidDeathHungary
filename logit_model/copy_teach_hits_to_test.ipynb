{
  "nbformat": 4,
  "nbformat_minor": 0,
  "metadata": {
    "colab": {
      "name": "copy_teach_hits_to_test",
      "provenance": [],
      "collapsed_sections": [],
      "authorship_tag": "ABX9TyNE0JZFYKqNeQEQYqDhDFZV",
      "include_colab_link": true
    },
    "kernelspec": {
      "name": "python3",
      "display_name": "Python 3"
    }
  },
  "cells": [
    {
      "cell_type": "markdown",
      "metadata": {
        "id": "view-in-github",
        "colab_type": "text"
      },
      "source": [
        "<a href=\"https://colab.research.google.com/github/gneusch/CovidDeathHungary/blob/main/logit_model/copy_teach_hits_to_test.ipynb\" target=\"_parent\"><img src=\"https://colab.research.google.com/assets/colab-badge.svg\" alt=\"Open In Colab\"/></a>"
      ]
    },
    {
      "cell_type": "code",
      "metadata": {
        "id": "v88JO6VlaDR6",
        "outputId": "baa4c35a-123f-41d7-df4a-7a785fa2188d",
        "colab": {
          "base_uri": "https://localhost:8080/"
        }
      },
      "source": [
        "colab = True\n",
        "\n",
        "if (colab):\n",
        "    from google.colab import drive\n",
        "    drive.mount('/content/drive')\n",
        "    from google.colab import files\n",
        "\n",
        "import pandas as pd\n",
        "import re\n",
        "import string\n",
        "\n",
        "import nltk\n",
        "from nltk.corpus import stopwords \n",
        "from nltk.tokenize import word_tokenize \n",
        "nltk.download('stopwords')\n",
        "nltk.download('punkt')\n",
        "tokenizer = nltk.data.load('tokenizers/punkt/english.pickle')\n",
        "stop_words = set(stopwords.words('english'))"
      ],
      "execution_count": null,
      "outputs": [
        {
          "output_type": "stream",
          "text": [
            "Mounted at /content/drive\n",
            "[nltk_data] Downloading package stopwords to /root/nltk_data...\n",
            "[nltk_data]   Unzipping corpora/stopwords.zip.\n",
            "[nltk_data] Downloading package punkt to /root/nltk_data...\n",
            "[nltk_data]   Unzipping tokenizers/punkt.zip.\n"
          ],
          "name": "stdout"
        }
      ]
    },
    {
      "cell_type": "code",
      "metadata": {
        "id": "fU2rxhyEjFkD",
        "outputId": "145c4afc-d96b-4c53-e847-b1f81786b417",
        "colab": {
          "base_uri": "https://localhost:8080/"
        }
      },
      "source": [
        "teach_filename = 'teaching_set.csv'\n",
        "test_filename = 'testing_set.csv'\n",
        "\n",
        "teach_data = pd.DataFrame()\n",
        "test_data = pd.DataFrame()\n",
        "\n",
        "if (colab): \n",
        "    teach_data = pd.read_csv(f'drive/My Drive/postings_201910/{teach_filename}')\n",
        "    test_data = pd.read_csv(f'drive/My Drive/postings_201910/{test_filename}')\n",
        "else:\n",
        "    teach_data = pd.read_csv(f'./results/logistic_regression_model/5n/{teach_filename}')\n",
        "    test_data = pd.read_csv(f'./results/logistic_regression_model/5n/{test_filename}')\n",
        "\n",
        "skills = []\n",
        "\n",
        "skill_file = 'drive/My Drive/postings_201910/all_ict_skill_labels.csv' if colab else './skill_dict/all_ict_skill_labels.csv'\n",
        "        \n",
        "with open(skill_file) as file:\n",
        "    lines = file.readlines()\n",
        "    \n",
        "for skill in [skill.strip() for skill in lines]:\n",
        "    skills.append(' '.join([w for w in word_tokenize(skill) if not w.lower() in stop_words]))\n",
        "\n",
        "print(len(skills))"
      ],
      "execution_count": null,
      "outputs": [
        {
          "output_type": "stream",
          "text": [
            "2110\n"
          ],
          "name": "stdout"
        }
      ]
    },
    {
      "cell_type": "code",
      "metadata": {
        "id": "nqFSWQVtIxQC",
        "outputId": "aad1e5d4-5eb0-4166-81a9-4b318930ab58",
        "colab": {
          "base_uri": "https://localhost:8080/"
        }
      },
      "source": [
        "class PostingResultsWHits(dict):\n",
        "  def __missing__(self, key):\n",
        "    return False\n",
        "\n",
        "hits_from_teaching_set = PostingResultsWHits()\n",
        "\n",
        "for i in teach_data.index:\n",
        "  rowData = []\n",
        "  for j in teach_data[['resultfromposting','hit']]:\n",
        "    rowData.append(teach_data.loc[i,(j)])\n",
        "\n",
        "  if (not hits_from_teaching_set[rowData[0]]):\n",
        "    hits_from_teaching_set[rowData[0]] = rowData[1]\n",
        "  else:\n",
        "    if (hits_from_teaching_set[rowData[0]] != rowData[1]):\n",
        "      print(f'Two different hit value found for the phrase: {rowData[0]}. In dict: {hits_from_teaching_set[rowData[0]]}')\n",
        "\n",
        "hits_from_teaching_set['information security data'] = 0"
      ],
      "execution_count": null,
      "outputs": [
        {
          "output_type": "stream",
          "text": [
            "Two different hit value found for the phrase: information security data. In dict: 1\n",
            "Two different hit value found for the phrase: information security data. In dict: 1\n",
            "Two different hit value found for the phrase: information security data. In dict: 1\n",
            "Two different hit value found for the phrase: support information security. In dict: 1\n",
            "Two different hit value found for the phrase: information security data. In dict: 1\n",
            "Two different hit value found for the phrase: information security data. In dict: 1\n",
            "Two different hit value found for the phrase: information security data. In dict: 1\n",
            "Two different hit value found for the phrase: information security data. In dict: 1\n",
            "Two different hit value found for the phrase: information security data. In dict: 1\n",
            "Two different hit value found for the phrase: information security data. In dict: 1\n",
            "Two different hit value found for the phrase: information security data. In dict: 1\n"
          ],
          "name": "stdout"
        }
      ]
    },
    {
      "cell_type": "code",
      "metadata": {
        "id": "9fctTPbSjsy_",
        "outputId": "2f1441aa-5e92-4d20-d83e-3c637f2a4c8b",
        "colab": {
          "base_uri": "https://localhost:8080/",
          "height": 310
        }
      },
      "source": [
        "for key, value in hits_from_teaching_set.items():    \n",
        "  result = test_data.loc[test_data['result from posting'] == key]\n",
        "  if not result.empty:\n",
        "    rows = test_data.loc[test_data['result from posting'] == key]\n",
        "    for index, row in rows.iterrows():\n",
        "      hit_value = value if (value ==  row[\"hit\"]) else -1\n",
        "      test_data.at[index, 'manual_label'] = hit_value      \n",
        "\n",
        "test_data['exact_dict_match'] = 0\n",
        "\n",
        "for skill in skills:\n",
        "  result = test_data.loc[test_data['result from posting'] == skill]\n",
        "  if not result.empty:\n",
        "    rows = test_data.loc[test_data['result from posting'] == skill]\n",
        "    for index, row in rows.iterrows():\n",
        "      test_data.at[index, 'exact_dict_match'] = 1\n",
        "      if (test_data.at[index, 'manual_label'] != 1 | test_data.at[index, 'hit'] != 1):      \n",
        "        test_data.at[index, 'manual_label'] = -1\n",
        "\n",
        "test_data.loc[(test_data['manual_label'] != -1) & (test_data['hit'] == 1) & (test_data['Jaccard nts'] == 1), \"manual_label\"] = 1\n",
        "\n",
        "test_data.head()"
      ],
      "execution_count": null,
      "outputs": [
        {
          "output_type": "execute_result",
          "data": {
            "text/html": [
              "<div>\n",
              "<style scoped>\n",
              "    .dataframe tbody tr th:only-of-type {\n",
              "        vertical-align: middle;\n",
              "    }\n",
              "\n",
              "    .dataframe tbody tr th {\n",
              "        vertical-align: top;\n",
              "    }\n",
              "\n",
              "    .dataframe thead th {\n",
              "        text-align: right;\n",
              "    }\n",
              "</style>\n",
              "<table border=\"1\" class=\"dataframe\">\n",
              "  <thead>\n",
              "    <tr style=\"text-align: right;\">\n",
              "      <th></th>\n",
              "      <th>Unnamed: 0</th>\n",
              "      <th>index</th>\n",
              "      <th>id</th>\n",
              "      <th>title</th>\n",
              "      <th>surrounding sentence</th>\n",
              "      <th>skill from dict</th>\n",
              "      <th>result from posting</th>\n",
              "      <th>N skill</th>\n",
              "      <th>N posting</th>\n",
              "      <th>Jaccard nts</th>\n",
              "      <th>Cosine nts</th>\n",
              "      <th>JaroWinkler nts</th>\n",
              "      <th>probability</th>\n",
              "      <th>hit</th>\n",
              "      <th>manual_label</th>\n",
              "      <th>exact_dict_match</th>\n",
              "    </tr>\n",
              "  </thead>\n",
              "  <tbody>\n",
              "    <tr>\n",
              "      <th>0</th>\n",
              "      <td>0</td>\n",
              "      <td>0</td>\n",
              "      <td>7e65e2ceb05106c6</td>\n",
              "      <td>Integration/Configuration Suite Engineer</td>\n",
              "      <td>This role will be within the existing Integrat...</td>\n",
              "      <td>broadcast devices</td>\n",
              "      <td>devices</td>\n",
              "      <td>2</td>\n",
              "      <td>1</td>\n",
              "      <td>0.5</td>\n",
              "      <td>0.641689</td>\n",
              "      <td>0.518908</td>\n",
              "      <td>0.000046</td>\n",
              "      <td>0</td>\n",
              "      <td>NaN</td>\n",
              "      <td>0</td>\n",
              "    </tr>\n",
              "    <tr>\n",
              "      <th>1</th>\n",
              "      <td>1</td>\n",
              "      <td>1</td>\n",
              "      <td>7e65e2ceb05106c6</td>\n",
              "      <td>Integration/Configuration Suite Engineer</td>\n",
              "      <td>This role will be within the existing Integrat...</td>\n",
              "      <td>broadcast equipment</td>\n",
              "      <td>equipment</td>\n",
              "      <td>2</td>\n",
              "      <td>1</td>\n",
              "      <td>0.5</td>\n",
              "      <td>0.688247</td>\n",
              "      <td>0.275828</td>\n",
              "      <td>0.000042</td>\n",
              "      <td>0</td>\n",
              "      <td>NaN</td>\n",
              "      <td>0</td>\n",
              "    </tr>\n",
              "    <tr>\n",
              "      <th>2</th>\n",
              "      <td>2</td>\n",
              "      <td>2</td>\n",
              "      <td>7e65e2ceb05106c6</td>\n",
              "      <td>Integration/Configuration Suite Engineer</td>\n",
              "      <td>This role will be within the existing Integrat...</td>\n",
              "      <td>broadcasting equipment</td>\n",
              "      <td>equipment</td>\n",
              "      <td>2</td>\n",
              "      <td>1</td>\n",
              "      <td>0.5</td>\n",
              "      <td>0.639602</td>\n",
              "      <td>0.458754</td>\n",
              "      <td>0.000042</td>\n",
              "      <td>0</td>\n",
              "      <td>NaN</td>\n",
              "      <td>0</td>\n",
              "    </tr>\n",
              "    <tr>\n",
              "      <th>3</th>\n",
              "      <td>3</td>\n",
              "      <td>3</td>\n",
              "      <td>7e65e2ceb05106c6</td>\n",
              "      <td>Integration/Configuration Suite Engineer</td>\n",
              "      <td>This role will be within the existing Integrat...</td>\n",
              "      <td>cloud services</td>\n",
              "      <td>services</td>\n",
              "      <td>2</td>\n",
              "      <td>1</td>\n",
              "      <td>0.5</td>\n",
              "      <td>0.755929</td>\n",
              "      <td>0.732143</td>\n",
              "      <td>0.000109</td>\n",
              "      <td>0</td>\n",
              "      <td>0.0</td>\n",
              "      <td>0</td>\n",
              "    </tr>\n",
              "    <tr>\n",
              "      <th>4</th>\n",
              "      <td>4</td>\n",
              "      <td>4</td>\n",
              "      <td>7e65e2ceb05106c6</td>\n",
              "      <td>Integration/Configuration Suite Engineer</td>\n",
              "      <td>This role will be within the existing Integrat...</td>\n",
              "      <td>control devices</td>\n",
              "      <td>devices</td>\n",
              "      <td>2</td>\n",
              "      <td>1</td>\n",
              "      <td>0.5</td>\n",
              "      <td>0.683130</td>\n",
              "      <td>0.473016</td>\n",
              "      <td>0.000053</td>\n",
              "      <td>0</td>\n",
              "      <td>NaN</td>\n",
              "      <td>0</td>\n",
              "    </tr>\n",
              "  </tbody>\n",
              "</table>\n",
              "</div>"
            ],
            "text/plain": [
              "   Unnamed: 0  index                id  ... hit manual_label exact_dict_match\n",
              "0           0      0  7e65e2ceb05106c6  ...   0          NaN                0\n",
              "1           1      1  7e65e2ceb05106c6  ...   0          NaN                0\n",
              "2           2      2  7e65e2ceb05106c6  ...   0          NaN                0\n",
              "3           3      3  7e65e2ceb05106c6  ...   0          0.0                0\n",
              "4           4      4  7e65e2ceb05106c6  ...   0          NaN                0\n",
              "\n",
              "[5 rows x 16 columns]"
            ]
          },
          "metadata": {
            "tags": []
          },
          "execution_count": 13
        }
      ]
    },
    {
      "cell_type": "code",
      "metadata": {
        "id": "3uT9t1QGnCK9"
      },
      "source": [
        "if (colab): \n",
        "    test_data.to_csv('drive/My Drive/postings_201910/testing_set_manual_label.csv', sep=',', index=False)\n",
        "else:\n",
        "    test_data.to_csv('./results/logistic_regression_model/5n/testing_set_manual_label.csv', sep=',', index=False)\n"
      ],
      "execution_count": null,
      "outputs": []
    }
  ]
}