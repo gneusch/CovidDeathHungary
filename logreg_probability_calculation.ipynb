{
  "nbformat": 4,
  "nbformat_minor": 0,
  "metadata": {
    "colab": {
      "name": "logreg_probability_calculation.ipynb",
      "provenance": [],
      "authorship_tag": "ABX9TyPSXcPlzL+C4lhZfsxoTvUP",
      "include_colab_link": true
    },
    "kernelspec": {
      "name": "python3",
      "display_name": "Python 3"
    }
  },
  "cells": [
    {
      "cell_type": "markdown",
      "metadata": {
        "id": "view-in-github",
        "colab_type": "text"
      },
      "source": [
        "<a href=\"https://colab.research.google.com/github/gneusch/CovidDeathHungary/blob/main/logreg_probability_calculation.ipynb\" target=\"_parent\"><img src=\"https://colab.research.google.com/assets/colab-badge.svg\" alt=\"Open In Colab\"/></a>"
      ]
    },
    {
      "cell_type": "code",
      "metadata": {
        "id": "4349CAz1HUh9",
        "outputId": "573c1370-7f36-43e8-9daa-2ea4420770be",
        "colab": {
          "base_uri": "https://localhost:8080/"
        }
      },
      "source": [
        "import math\n",
        "def calculate_probability(jaccard_token, cosine, jarowinkler, skilllengthcat, postinglengthcat):\n",
        "    constant = -19.700336\n",
        "    \n",
        "    b_skill_cat = {\n",
        "        '1': -3.912355,\n",
        "        '2': -5.904053,\n",
        "        '3': -3.600454,\n",
        "        '3+': 0\n",
        "    }\n",
        "    \n",
        "    b_posting_cat = {\n",
        "        '1': 0,\n",
        "        '2': 7.749655,\n",
        "        '3': 5.453237,\n",
        "        '3+': 8.442832\n",
        "    }\n",
        "    \n",
        "    log_odds = (\n",
        "        constant + \n",
        "        (23.212593 * jaccard_token) + \n",
        "        (5.157607 * cosine) +\n",
        "        (1.332940 * jarowinkler) + \n",
        "        b_skill_cat[skilllengthcat] +\n",
        "        b_posting_cat[postinglengthcat]\n",
        "    )\n",
        "    \n",
        "    return 1 / (1 + math.exp(-log_odds))\n",
        "\n",
        "probability = calculate_probability(0.4,0.757340163,0.637202249,'3+','3')\n",
        "print(probability)"
      ],
      "execution_count": 1,
      "outputs": [
        {
          "output_type": "stream",
          "text": [
            "0.44852143254237037\n"
          ],
          "name": "stdout"
        }
      ]
    },
    {
      "cell_type": "code",
      "metadata": {
        "id": "NQCHkLLPHha5"
      },
      "source": [
        ""
      ],
      "execution_count": null,
      "outputs": []
    }
  ]
}